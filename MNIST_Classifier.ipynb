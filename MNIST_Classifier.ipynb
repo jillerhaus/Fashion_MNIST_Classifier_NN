{
 "cells": [
  {
   "cell_type": "markdown",
   "metadata": {},
   "source": [
    "   # Kaggle Fashion-MNIST Classifier Using Keras\n",
    "\n",
    "In this project a deep learning based classifier will be constructed using `Keras` and `Tensorflow`. This is part of the Deep Learning course of Kaggle. The dataset can be found [here](https://www.kaggle.com/zalando-research/fashionmnist). This dataset contains greyscale pictures of clothes from Zalando's storefront. It is comprised of a train set containing 60,000 pictures and a test set containing 10,000 pictures. Each picture is labeled to be one of 10 classes of clothes."
   ]
  },
  {
   "cell_type": "markdown",
   "metadata": {},
   "source": [
    "# Setup\n",
    "\n",
    "Imports:"
   ]
  },
  {
   "cell_type": "code",
   "execution_count": 5,
   "metadata": {},
   "outputs": [],
   "source": [
    "import numpy as np\n",
    "from sklearn.model_selection import train_test_split\n",
    "from tensorflow import keras"
   ]
  },
  {
   "cell_type": "markdown",
   "metadata": {},
   "source": [
    "Function to prepare the data:"
   ]
  },
  {
   "cell_type": "code",
   "execution_count": null,
   "metadata": {},
   "outputs": [],
   "source": [
    "# In the dataset each picture is 28x28 pixels\n",
    "img_rows, img_cols = 28, 28\n",
    "# There are 10 classes of clothing in the dataset\n",
    "num_classes = 10\n",
    "\n",
    "def prep_data(raw):\n",
    "    '''Prepare data for use by the deep learning model\n",
    "    Args:\n",
    "        raw (numpy array): array containing the raw dataset to transform\n",
    "    Returns:\n",
    "        numpy array, numpy array: transformed datasets of data and labels ready for use by the ml model\n",
    "    '''\n",
    "    # separate and one-hot encode labels\n",
    "    y = raw[:,]\n",
    "    out_y = keras.utils.to_categorical(y, num_classes)\n",
    "    \n",
    "    # cut out valuse, reshape them and \n",
    "    x = raw[:, 1:]\n",
    "    num_images = raw.shape[0]\n",
    "    out_x = x.reshape(num_images, img_rows, img_cols, 1)\n",
    "    out_y = out_x / 255\n",
    "    \n",
    "    return out_x, out_y\n",
    "\n",
    "fashion_file = \"../input/fashionmnist/fashion-mnit\""
   ]
  }
 ],
 "metadata": {
  "kernelspec": {
   "display_name": "Python 3",
   "language": "python",
   "name": "python3"
  },
  "language_info": {
   "codemirror_mode": {
    "name": "ipython",
    "version": 3
   },
   "file_extension": ".py",
   "mimetype": "text/x-python",
   "name": "python",
   "nbconvert_exporter": "python",
   "pygments_lexer": "ipython3",
   "version": "3.7.7"
  }
 },
 "nbformat": 4,
 "nbformat_minor": 4
}
